{
 "cells": [
  {
   "cell_type": "markdown",
   "metadata": {
    "deletable": true,
    "editable": true
   },
   "source": [
    "##### Import libraries"
   ]
  },
  {
   "cell_type": "code",
   "execution_count": 157,
   "metadata": {
    "collapsed": true,
    "deletable": true,
    "editable": true
   },
   "outputs": [],
   "source": [
    "import pandas as pd # data analysis\n",
    "import matplotlib.pyplot as plt # default plotting library (line below: make plotting in Jupyter possible)\n",
    "import seaborn as sns # user friendly visualisations\n",
    "%matplotlib inline\n",
    "import warnings # disable matplotlib warnings (you may not need that)\n",
    "warnings.filterwarnings(\"ignore\", module=\"matplotlib\")"
   ]
  },
  {
   "cell_type": "markdown",
   "metadata": {
    "deletable": true,
    "editable": true
   },
   "source": [
    "##### Set options for Pandas and Seaborn"
   ]
  },
  {
   "cell_type": "code",
   "execution_count": 158,
   "metadata": {
    "collapsed": true,
    "deletable": true,
    "editable": true
   },
   "outputs": [],
   "source": [
    "pd.set_option('display.max_columns', 100)\n",
    "pd.set_option('display.max_rows', 100)\n",
    "pd.set_option('max_colwidth', 800)\n",
    "sns.set(style='ticks', context='poster')\n",
    "sns.set_style(\"whitegrid\")"
   ]
  },
  {
   "cell_type": "markdown",
   "metadata": {
    "deletable": true,
    "editable": true
   },
   "source": [
    "##### Manually collected flights file"
   ]
  },
  {
   "cell_type": "code",
   "execution_count": 170,
   "metadata": {
    "collapsed": false,
    "deletable": true,
    "editable": true
   },
   "outputs": [
    {
     "name": "stdout",
     "output_type": "stream",
     "text": [
      "trips_from_Nov2014.txt\r\n"
     ]
    }
   ],
   "source": [
    "!ls | grep trips"
   ]
  },
  {
   "cell_type": "code",
   "execution_count": 175,
   "metadata": {
    "collapsed": false,
    "deletable": true,
    "editable": true
   },
   "outputs": [
    {
     "name": "stdout",
     "output_type": "stream",
     "text": [
      "Flight FR 8856, ORK → WRO13 Jun, 06:35–09:53Flight FR 8857, WRO → ORK20 Jun, 10:49–12:31\r\n",
      "Work-Flight MULTIPLE ORK → SIN6 May, N/AWork-Flight MULTIPLE SIN → ORK17 May, N/A\r\n",
      "Flight FR 8856, ORK → WRO14 Feb, 18:50–22:30Flight FR 8857, WRO → ORK21 Feb, 16:24–18:22\r\n",
      "Flight EI 462, DUB → CTA15 Oct 2016, 06:50–11:25Flight EI 463, CTA → DUB29 Oct 2016, 12:16–14:59\r\n",
      "Flight FR 8011, DUB → WMI11 Aug 2016, 10:13–13:58Flight FR 8857, WRO → ORK16 Aug 2016, 10:45–12:09\r\n",
      "Flight EI 462, DUB → CTA15 Oct 2016, 06:53–11:34Flight EI 463, CTA → DUB29 Oct 2016, 12:16–14:59\r\n",
      "Flight FR 7316, DUB → CIY15 Sep 2016, 07:10–12:18Flight FR 7317, CIY → DUB18 Sep 2016, 11:16–13:56\r\n",
      "Flight FR 8011, DUB → WMI11 Aug 2016, 10:13–13:58Flight FR 8857, WRO → ORK16 Aug 2016, 10:45–12:09\r\n"
     ]
    }
   ],
   "source": [
    "# we can see the format of the trips\n",
    "# Tip: for trips in the current year - we don't see the year value!\n",
    "!head -n8 trips_from_Nov2014.txt"
   ]
  },
  {
   "cell_type": "markdown",
   "metadata": {
    "deletable": true,
    "editable": true
   },
   "source": [
    "##### Extract information from this thing using Python regex module\n",
    "I have to admit - this took a little while to get right!"
   ]
  },
  {
   "cell_type": "code",
   "execution_count": 176,
   "metadata": {
    "collapsed": false,
    "deletable": true,
    "editable": true
   },
   "outputs": [
    {
     "data": {
      "text/plain": [
       "[('13 Jun 2017', '20 Jun 2017'),\n",
       " ('6 May 2017', '17 May 2017'),\n",
       " ('14 Feb 2017', '21 Feb 2017'),\n",
       " ('15 Oct 2016', '29 Oct 2016'),\n",
       " ('11 Aug 2016', '16 Aug 2016')]"
      ]
     },
     "execution_count": 176,
     "metadata": {},
     "output_type": "execute_result"
    }
   ],
   "source": [
    "import re\n",
    "regex = re.compile(r'(.+)?Flight.+ → [a-zA-Z]{2,3}(\\d{1,2} [a-zA-Z]{3})( \\d{4})?.+ → [a-zA-Z]{2,3}(\\d{1,2} [a-zA-Z]{3})( \\d{4})?.+')\n",
    "with open('trips_from_Nov2014.txt') as f:\n",
    "    trips = [re.findall(regex, trip)[0] for trip in f.read().split('\\n')]\n",
    "trips = [(f[1] + (' 2017' if f[2] == '' else f[2]), f[3] + (' 2017' if f[4] == '' else f[4])) for f in trips]\n",
    "trips[0:5]"
   ]
  },
  {
   "cell_type": "code",
   "execution_count": 177,
   "metadata": {
    "collapsed": false,
    "deletable": true,
    "editable": true
   },
   "outputs": [
    {
     "data": {
      "text/html": [
       "<div>\n",
       "<table border=\"1\" class=\"dataframe\">\n",
       "  <thead>\n",
       "    <tr style=\"text-align: right;\">\n",
       "      <th></th>\n",
       "      <th>From</th>\n",
       "      <th>To</th>\n",
       "    </tr>\n",
       "  </thead>\n",
       "  <tbody>\n",
       "    <tr>\n",
       "      <th>0</th>\n",
       "      <td>2017-06-13</td>\n",
       "      <td>2017-06-20</td>\n",
       "    </tr>\n",
       "    <tr>\n",
       "      <th>1</th>\n",
       "      <td>2017-05-06</td>\n",
       "      <td>2017-05-17</td>\n",
       "    </tr>\n",
       "    <tr>\n",
       "      <th>2</th>\n",
       "      <td>2017-02-14</td>\n",
       "      <td>2017-02-21</td>\n",
       "    </tr>\n",
       "    <tr>\n",
       "      <th>3</th>\n",
       "      <td>2016-10-15</td>\n",
       "      <td>2016-10-29</td>\n",
       "    </tr>\n",
       "    <tr>\n",
       "      <th>4</th>\n",
       "      <td>2016-08-11</td>\n",
       "      <td>2016-08-16</td>\n",
       "    </tr>\n",
       "  </tbody>\n",
       "</table>\n",
       "</div>"
      ],
      "text/plain": [
       "        From         To\n",
       "0 2017-06-13 2017-06-20\n",
       "1 2017-05-06 2017-05-17\n",
       "2 2017-02-14 2017-02-21\n",
       "3 2016-10-15 2016-10-29\n",
       "4 2016-08-11 2016-08-16"
      ]
     },
     "execution_count": 177,
     "metadata": {},
     "output_type": "execute_result"
    }
   ],
   "source": [
    "# turn list of tuples into Pandas dataframe and store as csv\n",
    "trips = pd.DataFrame(trips, columns=['From', 'To'])\n",
    "trips['From'] = pd.to_datetime(trips['From'])\n",
    "trips['To'] = pd.to_datetime(trips['To'])\n",
    "trips.to_csv('trips-df.csv', index=False)\n",
    "trips.head()"
   ]
  }
 ],
 "metadata": {
  "kernelspec": {
   "display_name": "Python 3",
   "language": "python",
   "name": "python3"
  },
  "language_info": {
   "codemirror_mode": {
    "name": "ipython",
    "version": 3
   },
   "file_extension": ".py",
   "mimetype": "text/x-python",
   "name": "python",
   "nbconvert_exporter": "python",
   "pygments_lexer": "ipython3",
   "version": "3.5.3"
  }
 },
 "nbformat": 4,
 "nbformat_minor": 2
}
